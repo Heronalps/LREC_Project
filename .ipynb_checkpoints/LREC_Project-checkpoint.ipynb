{
 "cells": [
  {
   "cell_type": "code",
   "execution_count": 25,
   "metadata": {
    "collapsed": true
   },
   "outputs": [],
   "source": [
    "import pandas as pd"
   ]
  },
  {
   "cell_type": "code",
   "execution_count": 29,
   "metadata": {
    "collapsed": false
   },
   "outputs": [],
   "source": [
    "from numpy import NAN"
   ]
  },
  {
   "cell_type": "code",
   "execution_count": 94,
   "metadata": {
    "collapsed": false
   },
   "outputs": [],
   "source": [
    "df = pd.read_excel(\"Pro_41/Merged_Fruit_logs/batch01526_merged.csv.xlsx\", header = None)"
   ]
  },
  {
   "cell_type": "code",
   "execution_count": 95,
   "metadata": {
    "collapsed": false
   },
   "outputs": [
    {
     "data": {
      "text/html": [
       "<div>\n",
       "<table border=\"1\" class=\"dataframe\">\n",
       "  <thead>\n",
       "    <tr style=\"text-align: right;\">\n",
       "      <th></th>\n",
       "      <th>0</th>\n",
       "      <th>1</th>\n",
       "      <th>2</th>\n",
       "      <th>3</th>\n",
       "      <th>4</th>\n",
       "      <th>5</th>\n",
       "      <th>6</th>\n",
       "      <th>7</th>\n",
       "      <th>8</th>\n",
       "      <th>9</th>\n",
       "      <th>...</th>\n",
       "      <th>70</th>\n",
       "      <th>71</th>\n",
       "      <th>72</th>\n",
       "      <th>73</th>\n",
       "      <th>74</th>\n",
       "      <th>75</th>\n",
       "      <th>76</th>\n",
       "      <th>77</th>\n",
       "      <th>78</th>\n",
       "      <th>79</th>\n",
       "    </tr>\n",
       "  </thead>\n",
       "  <tbody>\n",
       "    <tr>\n",
       "      <th>0</th>\n",
       "      <td>Batch Information</td>\n",
       "      <td>NaN</td>\n",
       "      <td>NaN</td>\n",
       "      <td>NaN</td>\n",
       "      <td>NaN</td>\n",
       "      <td>NaN</td>\n",
       "      <td>NaN</td>\n",
       "      <td>NaN</td>\n",
       "      <td>NaN</td>\n",
       "      <td>NaN</td>\n",
       "      <td>...</td>\n",
       "      <td>NaN</td>\n",
       "      <td>NaN</td>\n",
       "      <td>NaN</td>\n",
       "      <td>NaN</td>\n",
       "      <td>NaN</td>\n",
       "      <td>NaN</td>\n",
       "      <td>NaN</td>\n",
       "      <td>NaN</td>\n",
       "      <td>NaN</td>\n",
       "      <td>NaN</td>\n",
       "    </tr>\n",
       "    <tr>\n",
       "      <th>1</th>\n",
       "      <td>EventTime</td>\n",
       "      <td>SizerBatchId</td>\n",
       "      <td>GrowerCode</td>\n",
       "      <td>GrowerName</td>\n",
       "      <td>BatchName</td>\n",
       "      <td>StartTime</td>\n",
       "      <td>EventTime</td>\n",
       "      <td>Name</td>\n",
       "      <td>SizerId</td>\n",
       "      <td>BatchId</td>\n",
       "      <td>...</td>\n",
       "      <td>NaN</td>\n",
       "      <td>NaN</td>\n",
       "      <td>NaN</td>\n",
       "      <td>NaN</td>\n",
       "      <td>NaN</td>\n",
       "      <td>NaN</td>\n",
       "      <td>NaN</td>\n",
       "      <td>NaN</td>\n",
       "      <td>NaN</td>\n",
       "      <td>NaN</td>\n",
       "    </tr>\n",
       "    <tr>\n",
       "      <th>2</th>\n",
       "      <td>2018-01-26 18:41:47</td>\n",
       "      <td>1526</td>\n",
       "      <td>41</td>\n",
       "      <td>Georgios Vidalakis/Irene</td>\n",
       "      <td>04_15</td>\n",
       "      <td>2018-01-26 09:22:21</td>\n",
       "      <td>2018-01-26 18:41:47</td>\n",
       "      <td>Oranges</td>\n",
       "      <td>1</td>\n",
       "      <td>1526</td>\n",
       "      <td>...</td>\n",
       "      <td>NaN</td>\n",
       "      <td>NaN</td>\n",
       "      <td>NaN</td>\n",
       "      <td>NaN</td>\n",
       "      <td>NaN</td>\n",
       "      <td>NaN</td>\n",
       "      <td>NaN</td>\n",
       "      <td>NaN</td>\n",
       "      <td>NaN</td>\n",
       "      <td>NaN</td>\n",
       "    </tr>\n",
       "    <tr>\n",
       "      <th>3</th>\n",
       "      <td>NaN</td>\n",
       "      <td>NaN</td>\n",
       "      <td>NaN</td>\n",
       "      <td>NaN</td>\n",
       "      <td>NaN</td>\n",
       "      <td>NaN</td>\n",
       "      <td>NaN</td>\n",
       "      <td>NaN</td>\n",
       "      <td>NaN</td>\n",
       "      <td>NaN</td>\n",
       "      <td>...</td>\n",
       "      <td>NaN</td>\n",
       "      <td>NaN</td>\n",
       "      <td>NaN</td>\n",
       "      <td>NaN</td>\n",
       "      <td>NaN</td>\n",
       "      <td>NaN</td>\n",
       "      <td>NaN</td>\n",
       "      <td>NaN</td>\n",
       "      <td>NaN</td>\n",
       "      <td>NaN</td>\n",
       "    </tr>\n",
       "    <tr>\n",
       "      <th>4</th>\n",
       "      <td>Fruit</td>\n",
       "      <td>NaN</td>\n",
       "      <td>NaN</td>\n",
       "      <td>NaN</td>\n",
       "      <td>NaN</td>\n",
       "      <td>NaN</td>\n",
       "      <td>NaN</td>\n",
       "      <td>NaN</td>\n",
       "      <td>NaN</td>\n",
       "      <td>NaN</td>\n",
       "      <td>...</td>\n",
       "      <td>NaN</td>\n",
       "      <td>NaN</td>\n",
       "      <td>NaN</td>\n",
       "      <td>NaN</td>\n",
       "      <td>NaN</td>\n",
       "      <td>NaN</td>\n",
       "      <td>NaN</td>\n",
       "      <td>NaN</td>\n",
       "      <td>NaN</td>\n",
       "      <td>NaN</td>\n",
       "    </tr>\n",
       "  </tbody>\n",
       "</table>\n",
       "<p>5 rows × 80 columns</p>\n",
       "</div>"
      ],
      "text/plain": [
       "                    0             1           2                          3   \\\n",
       "0    Batch Information           NaN         NaN                        NaN   \n",
       "1            EventTime  SizerBatchId  GrowerCode                 GrowerName   \n",
       "2  2018-01-26 18:41:47          1526          41  Georgios Vidalakis/Irene    \n",
       "3                  NaN           NaN         NaN                        NaN   \n",
       "4                Fruit           NaN         NaN                        NaN   \n",
       "\n",
       "          4                    5                    6        7        8   \\\n",
       "0        NaN                  NaN                  NaN      NaN      NaN   \n",
       "1  BatchName            StartTime            EventTime     Name  SizerId   \n",
       "2      04_15  2018-01-26 09:22:21  2018-01-26 18:41:47  Oranges        1   \n",
       "3        NaN                  NaN                  NaN      NaN      NaN   \n",
       "4        NaN                  NaN                  NaN      NaN      NaN   \n",
       "\n",
       "        9  ...    70   71   72   73   74   75   76   77   78   79  \n",
       "0      NaN ...   NaN  NaN  NaN  NaN  NaN  NaN  NaN  NaN  NaN  NaN  \n",
       "1  BatchId ...   NaN  NaN  NaN  NaN  NaN  NaN  NaN  NaN  NaN  NaN  \n",
       "2     1526 ...   NaN  NaN  NaN  NaN  NaN  NaN  NaN  NaN  NaN  NaN  \n",
       "3      NaN ...   NaN  NaN  NaN  NaN  NaN  NaN  NaN  NaN  NaN  NaN  \n",
       "4      NaN ...   NaN  NaN  NaN  NaN  NaN  NaN  NaN  NaN  NaN  NaN  \n",
       "\n",
       "[5 rows x 80 columns]"
      ]
     },
     "execution_count": 95,
     "metadata": {},
     "output_type": "execute_result"
    }
   ],
   "source": [
    "df.head()"
   ]
  },
  {
   "cell_type": "code",
   "execution_count": 96,
   "metadata": {
    "collapsed": false
   },
   "outputs": [],
   "source": [
    "batch_info = df.iloc[[2], 0:10]"
   ]
  },
  {
   "cell_type": "code",
   "execution_count": 97,
   "metadata": {
    "collapsed": false
   },
   "outputs": [],
   "source": [
    "batch_info.columns = [df.iloc[1, 0: 10]]"
   ]
  },
  {
   "cell_type": "code",
   "execution_count": 98,
   "metadata": {
    "collapsed": false
   },
   "outputs": [
    {
     "data": {
      "text/html": [
       "<div>\n",
       "<table border=\"1\" class=\"dataframe\">\n",
       "  <thead>\n",
       "    <tr style=\"text-align: right;\">\n",
       "      <th>1</th>\n",
       "      <th>EventTime</th>\n",
       "      <th>SizerBatchId</th>\n",
       "      <th>GrowerCode</th>\n",
       "      <th>GrowerName</th>\n",
       "      <th>BatchName</th>\n",
       "      <th>StartTime</th>\n",
       "      <th>EventTime</th>\n",
       "      <th>Name</th>\n",
       "      <th>SizerId</th>\n",
       "      <th>BatchId</th>\n",
       "    </tr>\n",
       "  </thead>\n",
       "  <tbody>\n",
       "    <tr>\n",
       "      <th>2</th>\n",
       "      <td>2018-01-26 18:41:47</td>\n",
       "      <td>1526</td>\n",
       "      <td>41</td>\n",
       "      <td>Georgios Vidalakis/Irene</td>\n",
       "      <td>04_15</td>\n",
       "      <td>2018-01-26 09:22:21</td>\n",
       "      <td>2018-01-26 18:41:47</td>\n",
       "      <td>Oranges</td>\n",
       "      <td>1</td>\n",
       "      <td>1526</td>\n",
       "    </tr>\n",
       "  </tbody>\n",
       "</table>\n",
       "</div>"
      ],
      "text/plain": [
       "1            EventTime SizerBatchId GrowerCode                 GrowerName  \\\n",
       "2  2018-01-26 18:41:47         1526         41  Georgios Vidalakis/Irene    \n",
       "\n",
       "1 BatchName            StartTime            EventTime     Name SizerId BatchId  \n",
       "2     04_15  2018-01-26 09:22:21  2018-01-26 18:41:47  Oranges       1    1526  "
      ]
     },
     "execution_count": 98,
     "metadata": {},
     "output_type": "execute_result"
    }
   ],
   "source": [
    "batch_info.head()"
   ]
  },
  {
   "cell_type": "code",
   "execution_count": 133,
   "metadata": {
    "collapsed": false
   },
   "outputs": [
    {
     "data": {
      "text/plain": [
       "(1, 10)"
      ]
     },
     "execution_count": 133,
     "metadata": {},
     "output_type": "execute_result"
    }
   ],
   "source": [
    "batch_info.shape"
   ]
  },
  {
   "cell_type": "code",
   "execution_count": 99,
   "metadata": {
    "collapsed": false
   },
   "outputs": [],
   "source": [
    "fruit_info = df.iloc[6:, :]"
   ]
  },
  {
   "cell_type": "code",
   "execution_count": 100,
   "metadata": {
    "collapsed": true
   },
   "outputs": [],
   "source": [
    "fruit_info.columns = [df.iloc[5]]"
   ]
  },
  {
   "cell_type": "code",
   "execution_count": 134,
   "metadata": {
    "collapsed": false
   },
   "outputs": [],
   "source": [
    "fruit_info = fruit_info.dropna()"
   ]
  },
  {
   "cell_type": "code",
   "execution_count": 135,
   "metadata": {
    "collapsed": false
   },
   "outputs": [
    {
     "data": {
      "text/plain": [
       "(589, 80)"
      ]
     },
     "execution_count": 135,
     "metadata": {},
     "output_type": "execute_result"
    }
   ],
   "source": [
    "fruit_info.shape"
   ]
  },
  {
   "cell_type": "code",
   "execution_count": 131,
   "metadata": {
    "collapsed": false
   },
   "outputs": [
    {
     "data": {
      "text/html": [
       "<div>\n",
       "<table border=\"1\" class=\"dataframe\">\n",
       "  <thead>\n",
       "    <tr style=\"text-align: right;\">\n",
       "      <th>5</th>\n",
       "      <th>EventTime</th>\n",
       "      <th>Cup</th>\n",
       "      <th>Lane</th>\n",
       "      <th>Weight</th>\n",
       "      <th>LR_Diff</th>\n",
       "      <th>DownWeight</th>\n",
       "      <th>UpWeight</th>\n",
       "      <th>GradeValue</th>\n",
       "      <th>MajorDiameter</th>\n",
       "      <th>MinorDiameter</th>\n",
       "      <th>...</th>\n",
       "      <th>Rough skin</th>\n",
       "      <th>Ridges</th>\n",
       "      <th>Creases</th>\n",
       "      <th>Major Diameter (mm)_duplicate_column_1</th>\n",
       "      <th>Minor Diameter (mm)_duplicate_column_1</th>\n",
       "      <th>Volume (ml)_duplicate_column_1</th>\n",
       "      <th>Cyclic Rod Number</th>\n",
       "      <th>Trip Rod</th>\n",
       "      <th>Fruit Center X (mm)</th>\n",
       "      <th>Fruit Center Y (mm)</th>\n",
       "    </tr>\n",
       "  </thead>\n",
       "  <tbody>\n",
       "    <tr>\n",
       "      <th>6</th>\n",
       "      <td>2018-01-26 18:42:09</td>\n",
       "      <td>532</td>\n",
       "      <td>1</td>\n",
       "      <td>137.2</td>\n",
       "      <td>35.7</td>\n",
       "      <td>50.75</td>\n",
       "      <td>86.45</td>\n",
       "      <td>0</td>\n",
       "      <td>73.3</td>\n",
       "      <td>72</td>\n",
       "      <td>...</td>\n",
       "      <td>0</td>\n",
       "      <td>0</td>\n",
       "      <td>0</td>\n",
       "      <td>73.3404</td>\n",
       "      <td>72.0382</td>\n",
       "      <td>193.566</td>\n",
       "      <td>212</td>\n",
       "      <td>52444</td>\n",
       "      <td>2.6893</td>\n",
       "      <td>-2.2368</td>\n",
       "    </tr>\n",
       "    <tr>\n",
       "      <th>7</th>\n",
       "      <td>2018-01-26 18:46:05</td>\n",
       "      <td>390</td>\n",
       "      <td>1</td>\n",
       "      <td>212.2</td>\n",
       "      <td>33.6</td>\n",
       "      <td>89.3</td>\n",
       "      <td>122.9</td>\n",
       "      <td>0</td>\n",
       "      <td>76.2</td>\n",
       "      <td>74.9</td>\n",
       "      <td>...</td>\n",
       "      <td>74.0741</td>\n",
       "      <td>0</td>\n",
       "      <td>0</td>\n",
       "      <td>76.1916</td>\n",
       "      <td>74.903</td>\n",
       "      <td>228.145</td>\n",
       "      <td>238</td>\n",
       "      <td>54262</td>\n",
       "      <td>4.4238</td>\n",
       "      <td>-3.5985</td>\n",
       "    </tr>\n",
       "    <tr>\n",
       "      <th>8</th>\n",
       "      <td>2018-01-26 18:46:05</td>\n",
       "      <td>395</td>\n",
       "      <td>1</td>\n",
       "      <td>232.4</td>\n",
       "      <td>36.6</td>\n",
       "      <td>97.9</td>\n",
       "      <td>134.5</td>\n",
       "      <td>0</td>\n",
       "      <td>80</td>\n",
       "      <td>77.4</td>\n",
       "      <td>...</td>\n",
       "      <td>67.8571</td>\n",
       "      <td>0</td>\n",
       "      <td>0</td>\n",
       "      <td>79.9737</td>\n",
       "      <td>77.3695</td>\n",
       "      <td>252.183</td>\n",
       "      <td>243</td>\n",
       "      <td>54267</td>\n",
       "      <td>4.5075</td>\n",
       "      <td>-5.239</td>\n",
       "    </tr>\n",
       "    <tr>\n",
       "      <th>9</th>\n",
       "      <td>2018-01-26 18:46:07</td>\n",
       "      <td>406</td>\n",
       "      <td>1</td>\n",
       "      <td>326.4</td>\n",
       "      <td>38.1</td>\n",
       "      <td>144.15</td>\n",
       "      <td>182.25</td>\n",
       "      <td>0</td>\n",
       "      <td>88.7</td>\n",
       "      <td>86.9</td>\n",
       "      <td>...</td>\n",
       "      <td>92.5926</td>\n",
       "      <td>0</td>\n",
       "      <td>0</td>\n",
       "      <td>88.7347</td>\n",
       "      <td>86.9461</td>\n",
       "      <td>350.031</td>\n",
       "      <td>254</td>\n",
       "      <td>54278</td>\n",
       "      <td>2.7032</td>\n",
       "      <td>0.8197</td>\n",
       "    </tr>\n",
       "    <tr>\n",
       "      <th>10</th>\n",
       "      <td>2018-01-26 18:46:07</td>\n",
       "      <td>410</td>\n",
       "      <td>1</td>\n",
       "      <td>316.4</td>\n",
       "      <td>39.1</td>\n",
       "      <td>138.65</td>\n",
       "      <td>177.75</td>\n",
       "      <td>0</td>\n",
       "      <td>88.9</td>\n",
       "      <td>86.2</td>\n",
       "      <td>...</td>\n",
       "      <td>80.7692</td>\n",
       "      <td>0</td>\n",
       "      <td>0</td>\n",
       "      <td>88.9257</td>\n",
       "      <td>86.1946</td>\n",
       "      <td>351.388</td>\n",
       "      <td>2</td>\n",
       "      <td>54282</td>\n",
       "      <td>4.2563</td>\n",
       "      <td>-2.3657</td>\n",
       "    </tr>\n",
       "  </tbody>\n",
       "</table>\n",
       "<p>5 rows × 80 columns</p>\n",
       "</div>"
      ],
      "text/plain": [
       "5             EventTime  Cup Lane Weight LR_Diff DownWeight UpWeight  \\\n",
       "6   2018-01-26 18:42:09  532    1  137.2    35.7      50.75    86.45   \n",
       "7   2018-01-26 18:46:05  390    1  212.2    33.6       89.3    122.9   \n",
       "8   2018-01-26 18:46:05  395    1  232.4    36.6       97.9    134.5   \n",
       "9   2018-01-26 18:46:07  406    1  326.4    38.1     144.15   182.25   \n",
       "10  2018-01-26 18:46:07  410    1  316.4    39.1     138.65   177.75   \n",
       "\n",
       "5  GradeValue MajorDiameter MinorDiameter         ...         Rough skin  \\\n",
       "6           0          73.3            72         ...                  0   \n",
       "7           0          76.2          74.9         ...            74.0741   \n",
       "8           0            80          77.4         ...            67.8571   \n",
       "9           0          88.7          86.9         ...            92.5926   \n",
       "10          0          88.9          86.2         ...            80.7692   \n",
       "\n",
       "5  Ridges Creases Major Diameter (mm)_duplicate_column_1  \\\n",
       "6       0       0                                73.3404   \n",
       "7       0       0                                76.1916   \n",
       "8       0       0                                79.9737   \n",
       "9       0       0                                88.7347   \n",
       "10      0       0                                88.9257   \n",
       "\n",
       "5  Minor Diameter (mm)_duplicate_column_1 Volume (ml)_duplicate_column_1  \\\n",
       "6                                 72.0382                        193.566   \n",
       "7                                  74.903                        228.145   \n",
       "8                                 77.3695                        252.183   \n",
       "9                                 86.9461                        350.031   \n",
       "10                                86.1946                        351.388   \n",
       "\n",
       "5  Cyclic Rod Number Trip Rod Fruit Center X (mm) Fruit Center Y (mm)  \n",
       "6                212    52444              2.6893             -2.2368  \n",
       "7                238    54262              4.4238             -3.5985  \n",
       "8                243    54267              4.5075              -5.239  \n",
       "9                254    54278              2.7032              0.8197  \n",
       "10                 2    54282              4.2563             -2.3657  \n",
       "\n",
       "[5 rows x 80 columns]"
      ]
     },
     "execution_count": 131,
     "metadata": {},
     "output_type": "execute_result"
    }
   ],
   "source": [
    "fruit_info.head()"
   ]
  }
 ],
 "metadata": {
  "anaconda-cloud": {},
  "kernelspec": {
   "display_name": "Python [conda env:gl-env]",
   "language": "python",
   "name": "conda-env-gl-env-py"
  },
  "language_info": {
   "codemirror_mode": {
    "name": "ipython",
    "version": 2
   },
   "file_extension": ".py",
   "mimetype": "text/x-python",
   "name": "python",
   "nbconvert_exporter": "python",
   "pygments_lexer": "ipython2",
   "version": "2.7.11"
  }
 },
 "nbformat": 4,
 "nbformat_minor": 1
}
